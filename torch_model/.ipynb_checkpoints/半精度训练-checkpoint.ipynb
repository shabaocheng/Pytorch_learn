{
 "cells": [
  {
   "cell_type": "code",
   "execution_count": null,
   "id": "4d53e85e",
   "metadata": {},
   "outputs": [],
   "source": [
    "from torch.cuda.amp import autocast"
   ]
  },
  {
   "cell_type": "code",
   "execution_count": null,
   "id": "8945b9a6",
   "metadata": {},
   "outputs": [],
   "source": [
    "# 半精度训练设置"
   ]
  },
  {
   "cell_type": "code",
   "execution_count": null,
   "id": "280adb4d",
   "metadata": {},
   "outputs": [],
   "source": [
    "# 1、import autocast\n",
    "from torch.cuda.amp import autocast"
   ]
  },
  {
   "cell_type": "code",
   "execution_count": null,
   "id": "5fd00f54",
   "metadata": {},
   "outputs": [],
   "source": [
    "# 2、模型设置\n",
    "# 在模型定义中，使用python的装饰器方法，用autocast装饰模型中的forward函数。\n",
    "@autocast()   \n",
    "def forward(self, x):\n",
    "    ...\n",
    "    return x"
   ]
  },
  {
   "cell_type": "code",
   "execution_count": null,
   "id": "119e7063",
   "metadata": {},
   "outputs": [],
   "source": [
    "# 训练过程\n",
    "# 在训练过程中，只需在将数据输入模型及其之后的部分放入“with autocast():“即可：\n",
    " for x in train_loader:\n",
    "\tx = x.cuda()\n",
    "\twith autocast():\n",
    "            output = model(x)\n",
    "        ..."
   ]
  }
 ],
 "metadata": {
  "kernelspec": {
   "display_name": "pytorch",
   "language": "python",
   "name": "pytorch"
  },
  "language_info": {
   "codemirror_mode": {
    "name": "ipython",
    "version": 3
   },
   "file_extension": ".py",
   "mimetype": "text/x-python",
   "name": "python",
   "nbconvert_exporter": "python",
   "pygments_lexer": "ipython3",
   "version": "3.10.12"
  }
 },
 "nbformat": 4,
 "nbformat_minor": 5
}
