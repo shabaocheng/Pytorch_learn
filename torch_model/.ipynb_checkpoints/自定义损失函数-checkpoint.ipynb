{
 "cells": [
  {
   "cell_type": "code",
   "execution_count": 1,
   "id": "a4c0c9f7",
   "metadata": {
    "ExecuteTime": {
     "end_time": "2023-10-16T09:03:12.755174Z",
     "start_time": "2023-10-16T09:03:12.744211Z"
    }
   },
   "outputs": [],
   "source": [
    "import torch\n",
    "import torch.nn as nn"
   ]
  },
  {
   "cell_type": "code",
   "execution_count": 2,
   "id": "a488a47b",
   "metadata": {
    "ExecuteTime": {
     "end_time": "2023-10-16T09:04:59.234599Z",
     "start_time": "2023-10-16T09:04:59.229367Z"
    }
   },
   "outputs": [],
   "source": [
    "# 以函数的方式定义\n",
    "def my_loss(output,target):\n",
    "    loss = torch.mean((output - target)**2)\n",
    "    return loss"
   ]
  },
  {
   "cell_type": "code",
   "execution_count": 4,
   "id": "9439e5fb",
   "metadata": {
    "ExecuteTime": {
     "end_time": "2023-10-16T09:08:46.104773Z",
     "start_time": "2023-10-16T09:08:46.094615Z"
    }
   },
   "outputs": [],
   "source": [
    "# 以类的方式\n",
    "class DiceLoss(nn.Module):\n",
    "    def __init__(self,weight=None,size_average=True):\n",
    "        super(DiceLoss,self).__init__()\n",
    "        \n",
    "    def forward(self,inputs,targets,smooth=1):\n",
    "        inputs = F.sigmoid(inputs)       \n",
    "        inputs = inputs.view(-1)\n",
    "        targets = targets.view(-1)\n",
    "        intersection = (inputs * targets).sum()                   \n",
    "        dice = (2.*intersection + smooth)/(inputs.sum() + targets.sum() + smooth)  \n",
    "        return 1 - dice\n",
    "\n",
    "# 使用方法    \n",
    "criterion = DiceLoss()\n",
    "loss = criterion(input,targets)"
   ]
  },
  {
   "cell_type": "code",
   "execution_count": null,
   "id": "2276ed0c",
   "metadata": {},
   "outputs": [],
   "source": []
  }
 ],
 "metadata": {
  "kernelspec": {
   "display_name": "pytorch",
   "language": "python",
   "name": "pytorch"
  },
  "language_info": {
   "codemirror_mode": {
    "name": "ipython",
    "version": 3
   },
   "file_extension": ".py",
   "mimetype": "text/x-python",
   "name": "python",
   "nbconvert_exporter": "python",
   "pygments_lexer": "ipython3",
   "version": "3.10.12"
  }
 },
 "nbformat": 4,
 "nbformat_minor": 5
}
