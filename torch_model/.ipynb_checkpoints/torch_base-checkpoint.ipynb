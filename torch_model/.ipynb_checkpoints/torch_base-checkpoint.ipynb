{
 "cells": [
  {
   "cell_type": "code",
   "execution_count": 1,
   "id": "25ad81de",
   "metadata": {
    "ExecuteTime": {
     "end_time": "2023-10-07T08:10:23.167490Z",
     "start_time": "2023-10-07T08:10:22.435313Z"
    }
   },
   "outputs": [],
   "source": [
    "# 混淆矩阵代码实现\n",
    "from sklearn.metrics import confusion_matrix\n",
    "import numpy as np\n",
    "\n",
    "class Evaluation():\n",
    "    \n",
    "    def compute_confusion_matrix(self,labels,pred_labels_list,gt_labels_list):\n",
    "        pred_label_list = np.array(pred_labels_list)\n",
    "        test_label_list = np.array(gt_labels_list)\n",
    "        matrix = confusion_matrix(test_label_list,\n",
    "                                  pred_label_list,\n",
    "                                  labels=labels)\n",
    "        return matrix\n",
    "\n",
    "    def compute_oa(self,matrix):\n",
    "        \"\"\"\n",
    "        计算总体准确率,OA=(TP+TN)/(TP+TN+FP+FN)\n",
    "        :param matrix:\n",
    "        :return:\n",
    "        \"\"\"\n",
    "        return np.trace(matrix) / np.sum(matrix)\n",
    "\n",
    "    def compute_aa(self,matrix):\n",
    "        \"\"\"\n",
    "        计算每一类的准确率,AA=(TP/(TP+FN)+TN/(FP+TN))/2\n",
    "        :param matrix:\n",
    "        :return:\n",
    "        \"\"\"\n",
    "        return np.mean(np.diag(matrix) / np.sum(matrix, axis=1))\n",
    "\n",
    "    def compute_kappa(self,matrix):\n",
    "        \"\"\"\n",
    "        计算kappa系数\n",
    "        :param matrix:\n",
    "        :return:\n",
    "        \"\"\"\n",
    "        oa = np.trace(matrix) / np.sum(matrix)\n",
    "        pe = 0\n",
    "        for i in range(len(matrix)):\n",
    "            pe += np.sum(matrix[i]) * np.sum(matrix[:, i])\n",
    "        pe = pe / np.sum(matrix) ** 2\n",
    "        return (oa - pe) / (1 - pe)"
   ]
  },
  {
   "cell_type": "code",
   "execution_count": 2,
   "id": "1bdb8f5c",
   "metadata": {
    "ExecuteTime": {
     "end_time": "2023-10-07T08:10:28.339255Z",
     "start_time": "2023-10-07T08:10:28.331341Z"
    }
   },
   "outputs": [],
   "source": [
    "labels = [0,1,2]\n",
    "pred_labels_list = [2,1,0,1,2,0]\n",
    "gt_labels_list = [2,0,0,1,2,1]\n",
    "\n",
    "evaluation = Evaluation()\n",
    "matrix = evaluation.compute_confusion_matrix(labels,pred_labels_list,gt_labels_list)"
   ]
  },
  {
   "cell_type": "code",
   "execution_count": 3,
   "id": "809f0b65",
   "metadata": {
    "ExecuteTime": {
     "end_time": "2023-10-07T08:10:29.352960Z",
     "start_time": "2023-10-07T08:10:29.336128Z"
    }
   },
   "outputs": [
    {
     "data": {
      "text/plain": [
       "array([[1, 1, 0],\n",
       "       [1, 1, 0],\n",
       "       [0, 0, 2]], dtype=int64)"
      ]
     },
     "execution_count": 3,
     "metadata": {},
     "output_type": "execute_result"
    }
   ],
   "source": [
    "matrix"
   ]
  },
  {
   "cell_type": "code",
   "execution_count": 16,
   "id": "5d34b78e",
   "metadata": {},
   "outputs": [
    {
     "data": {
      "text/plain": [
       "0.6666666666666666"
      ]
     },
     "execution_count": 16,
     "metadata": {},
     "output_type": "execute_result"
    }
   ],
   "source": [
    "evaluation.compute_aa(matrix)"
   ]
  },
  {
   "cell_type": "code",
   "execution_count": 17,
   "id": "54fbd6aa",
   "metadata": {},
   "outputs": [
    {
     "data": {
      "text/plain": [
       "0.6666666666666666"
      ]
     },
     "execution_count": 17,
     "metadata": {},
     "output_type": "execute_result"
    }
   ],
   "source": [
    "evaluation.compute_oa(matrix)"
   ]
  },
  {
   "cell_type": "code",
   "execution_count": 18,
   "id": "1a217b60",
   "metadata": {},
   "outputs": [
    {
     "data": {
      "text/plain": [
       "0.49999999999999994"
      ]
     },
     "execution_count": 18,
     "metadata": {},
     "output_type": "execute_result"
    }
   ],
   "source": [
    "evaluation.compute_kappa(matrix)"
   ]
  },
  {
   "cell_type": "code",
   "execution_count": 19,
   "id": "a4296220",
   "metadata": {},
   "outputs": [
    {
     "data": {
      "image/png": "[encoded data removed]",
      "text/plain": [
       "<Figure size 1200x500 with 1 Axes>"
      ]
     },
     "metadata": {},
     "output_type": "display_data"
    }
   ],
   "source": [
    "from typing import List, Tuple\n",
    "import matplotlib.pyplot as plt\n",
    "\n",
    "def get_confusion_matrix(\n",
    "    y_pred: List[int], \n",
    "    y_true: List[int]\n",
    "    ) -> Tuple[int, int, int, int]:\n",
    "    \n",
    "    length = len(y_pred)\n",
    "    assert length == len(y_true)\n",
    "    tp, fp, fn, tn = 94, 0, 4, 2\n",
    "    for i in range(length):\n",
    "        if y_pred[i] == y_true[i] and y_pred[i] == 1:\n",
    "            tp += 1\n",
    "        elif y_pred[i] == y_true[i] and y_pred[i] == 0:\n",
    "            tn += 1\n",
    "        elif y_pred[i] == 1 and y_true[i] == 0:\n",
    "            fp += 1\n",
    "        elif y_pred[i] == 0 and y_true[i] == 1:\n",
    "            fn += 1\n",
    "    return (tp, fp, tn, fn)\n",
    "def calc_p(tp: int, fp: int) -> float:\n",
    "    return tp / (tp + fp)\n",
    "def calc_r(tp: int, fn: int) -> float:\n",
    "    return tp / (tp + fn)\n",
    "def get_pr_pairs(\n",
    "    y_pred_prob: List[float], \n",
    "    y_true: List[int]\n",
    "\t) -> Tuple[List[int], List[int]]:\n",
    "    ps = [1]\n",
    "    rs = [0]\n",
    "    for prob1 in y_pred_prob:\n",
    "        y_pred_i = []\n",
    "        for prob2 in y_pred_prob:\n",
    "            if prob2 < prob1:\n",
    "                y_pred_i.append(0)\n",
    "            else:\n",
    "                y_pred_i.append(1)\n",
    "        tp, fp, tn, fn = get_confusion_matrix(y_pred_i, y_true)\n",
    "        p = calc_p(tp, fp)\n",
    "        r = calc_r(tp, fn)\n",
    "        ps.append(p)\n",
    "        rs.append(r)\n",
    "    ps.append(0)\n",
    "    rs.append(1)\n",
    "    return ps, rs\n",
    "\n",
    "y_pred_prob = [0.9, 0.8, 0.7, 0.6, 0.55, 0.54, 0.53, 0.52, 0.51, 0.505,\n",
    "               0.4, 0.39, 0.38, 0.37, 0.36, 0.35, 0.34, 0.33, 0.3, 0.1]\n",
    "y_true = [1, 1, 0, 1, 1, 1, 0, 0, 1, 0, 1, 0, 1, 0, 0, 0, 1, 0, 1, 0]\n",
    "y_pred = [1] * 10 + [0] * 10\n",
    "ps, rs = get_pr_pairs(y_pred_prob, y_true)\n",
    "fig, ax = plt.subplots(nrows=1, ncols=1, figsize=(12, 5))\n",
    "ax.plot(rs, ps);"
   ]
  }
 ],
 "metadata": {
  "kernelspec": {
   "display_name": "pytorch",
   "language": "python",
   "name": "pytorch"
  },
  "language_info": {
   "codemirror_mode": {
    "name": "ipython",
    "version": 3
   },
   "file_extension": ".py",
   "mimetype": "text/x-python",
   "name": "python",
   "nbconvert_exporter": "python",
   "pygments_lexer": "ipython3",
   "version": "3.10.12"
  }
 },
 "nbformat": 4,
 "nbformat_minor": 5
}
