{
 "cells": [
  {
   "cell_type": "code",
   "execution_count": 6,
   "id": "898ba541",
   "metadata": {
    "ExecuteTime": {
     "end_time": "2023-10-09T08:29:24.427783Z",
     "start_time": "2023-10-09T08:29:24.409551Z"
    }
   },
   "outputs": [],
   "source": [
    "import torch\n",
    "import os\n",
    "import numpy as np\n",
    "import pandas as pd\n",
    "import torch.nn as nn\n",
    "from torch.utils.data import Dataset,Dataloader\n",
    "import torch.optim as optimizer\n",
    "from torchvision import datasets"
   ]
  },
  {
   "cell_type": "code",
   "execution_count": 2,
   "id": "79651a84",
   "metadata": {
    "ExecuteTime": {
     "end_time": "2023-10-09T08:08:23.312032Z",
     "start_time": "2023-10-09T08:08:23.297777Z"
    }
   },
   "outputs": [],
   "source": [
    "# 设置GPU\n",
    "os.environ['CUDA_VISIBLE_DEVICES'] = '0'\n",
    "\n",
    "# 或者使用“device”，后续对要使用GPU的变量用.to(device)即可\n",
    "device = torch.device(\"cuda:0\" if torch.cuda.is_available() else \"cpu\") # 指明调用的GPU为1号"
   ]
  },
  {
   "cell_type": "code",
   "execution_count": 5,
   "id": "dbeccd14",
   "metadata": {
    "ExecuteTime": {
     "end_time": "2023-10-09T08:22:55.331846Z",
     "start_time": "2023-10-09T08:22:55.324179Z"
    }
   },
   "outputs": [],
   "source": [
    "train_data = datasets.ImageFolder(train_path, transform=data_transform)\n",
    "val_data = datasets.ImageFolder(val_path, transform=data_transform)"
   ]
  },
  {
   "cell_type": "code",
   "execution_count": null,
   "id": "09c217e9",
   "metadata": {},
   "outputs": [],
   "source": [
    "# 制作Dataset例子：\n",
    "class MyDataset(Dataset):\n",
    "    def __init__(self,xxx,xxx,xxx)\n",
    "    '''\n",
    "    用于向类中传入外部参数，同时定义样本集\n",
    "    '''\n",
    "    pass\n",
    "    \n",
    "    def __len__(self):\n",
    "        '''\n",
    "        用于返回数据集的样本数\n",
    "        '''\n",
    "        return len(self.xxx)\n",
    "    \n",
    "    def __getitem__(self):\n",
    "            '''\n",
    "        用于逐个读取样本集合中的元素，可以进行一定的变换，并将返回训练/验证所需的数据\n",
    "        '''\n",
    "        # xxxx\n",
    "        # xxxx\n",
    "        # xxxx\n",
    "        return image,label"
   ]
  },
  {
   "cell_type": "markdown",
   "id": "52c09ba4",
   "metadata": {},
   "source": [
    "## 构建好Dataset后，就可以使用DataLoader来按批次读入数据了，实现代码如下： "
   ]
  },
  {
   "cell_type": "code",
   "execution_count": null,
   "id": "3a0a12ad",
   "metadata": {},
   "outputs": [],
   "source": [
    "from torch.utils.data import DataLoader\n",
    "\n",
    "train_loader = torch.utils.data.DataLoader(train_data, batch_size=batch_size, num_workers=4, shuffle=True, drop_last=True)\n",
    "val_loader = torch.utils.data.DataLoader(val_data, batch_size=batch_size, num_workers=4, shuffle=False)\n"
   ]
  },
  {
   "cell_type": "markdown",
   "id": "80e7dc27",
   "metadata": {},
   "source": [
    "#### - batch_size：样本是按“批”读入的，batch_size就是每次读入的样本数\n",
    "#### - num_workers：有多少个进程用于读取数据，Windows下该参数设置为0，Linux下常见的为4或者8，根据自己的电脑配置来设置\n",
    "#### - shuffle：是否将读入的数据打乱，一般在训练集中设置为True，验证集中设置为False\n",
    "#### - drop_last：对于样本最后一部分没有达到批次数的样本，使其不再参与训练"
   ]
  }
 ],
 "metadata": {
  "kernelspec": {
   "display_name": "pytorch",
   "language": "python",
   "name": "pytorch"
  },
  "language_info": {
   "codemirror_mode": {
    "name": "ipython",
    "version": 3
   },
   "file_extension": ".py",
   "mimetype": "text/x-python",
   "name": "python",
   "nbconvert_exporter": "python",
   "pygments_lexer": "ipython3",
   "version": "3.10.12"
  }
 },
 "nbformat": 4,
 "nbformat_minor": 5
}
