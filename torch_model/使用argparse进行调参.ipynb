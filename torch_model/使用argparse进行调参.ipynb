{
 "cells": [
  {
   "cell_type": "code",
   "execution_count": 1,
   "id": "5cb0a51f",
   "metadata": {
    "ExecuteTime": {
     "end_time": "2023-10-16T09:27:45.318623Z",
     "start_time": "2023-10-16T09:27:45.293093Z"
    }
   },
   "outputs": [
    {
     "name": "stderr",
     "output_type": "stream",
     "text": [
      "usage: ipykernel_launcher.py [-h] [-o] [--lr LR] --batch_size BATCH_SIZE\n",
      "ipykernel_launcher.py: error: the following arguments are required: --batch_size\n"
     ]
    },
    {
     "ename": "SystemExit",
     "evalue": "2",
     "output_type": "error",
     "traceback": [
      "An exception has occurred, use %tb to see the full traceback.\n",
      "\u001b[1;31mSystemExit\u001b[0m\u001b[1;31m:\u001b[0m 2\n"
     ]
    },
    {
     "name": "stderr",
     "output_type": "stream",
     "text": [
      "D:\\Anaconda\\envs\\pytorch\\lib\\site-packages\\IPython\\core\\interactiveshell.py:3516: UserWarning: To exit: use 'exit', 'quit', or Ctrl-D.\n",
      "  warn(\"To exit: use 'exit', 'quit', or Ctrl-D.\", stacklevel=1)\n"
     ]
    }
   ],
   "source": [
    "# demo.py\n",
    "import argparse\n",
    "\n",
    "# 创建ArgumentParser()对象\n",
    "parser = argparse.ArgumentParser()\n",
    "\n",
    "# 添加参数\n",
    "parser.add_argument('-o', '--output', action='store_true', \n",
    "    help=\"shows output\")\n",
    "# action = `store_true` 会将output参数记录为True\n",
    "# type 规定了参数的格式\n",
    "# default 规定了默认值\n",
    "parser.add_argument('--lr', type=float, default=3e-5, help='select the learning rate, default=1e-3') \n",
    "\n",
    "parser.add_argument('--batch_size', type=int, required=True, help='input batch size')  \n",
    "# 使用parse_args()解析函数\n",
    "args = parser.parse_args()\n",
    "\n",
    "if args.output:\n",
    "    print(\"This is some output\")\n",
    "    print(f\"learning rate:{args.lr} \")\n"
   ]
  },
  {
   "cell_type": "code",
   "execution_count": 2,
   "id": "931aebf6",
   "metadata": {
    "ExecuteTime": {
     "end_time": "2023-10-16T09:28:54.421678Z",
     "start_time": "2023-10-16T09:28:54.278671Z"
    }
   },
   "outputs": [
    {
     "name": "stderr",
     "output_type": "stream",
     "text": [
      "python: can't open file 'D:\\\\workspace\\\\torch_model\\\\demo.py': [Errno 2] No such file or directory\n"
     ]
    }
   ],
   "source": [
    "!python demo.py --lr 3e-4 --batch_size 32"
   ]
  },
  {
   "cell_type": "code",
   "execution_count": 3,
   "id": "cae3d042",
   "metadata": {
    "ExecuteTime": {
     "end_time": "2023-10-16T09:36:36.165380Z",
     "start_time": "2023-10-16T09:36:36.142857Z"
    }
   },
   "outputs": [
    {
     "name": "stderr",
     "output_type": "stream",
     "text": [
      "usage: ipykernel_launcher.py [-h] [--workers WORKERS] [--batch_size BATCH_SIZE] [--niter NITER] [--lr LR] [--seed SEED] [--cuda] [--checkpoint_path CHECKPOINT_PATH] [--output]\n",
      "ipykernel_launcher.py: error: unrecognized arguments: -f D:\\Users\\baochengs\\AppData\\Roaming\\jupyter\\runtime\\kernel-f70b5910-e18e-47d4-a5ae-05cd04c00f0c.json\n"
     ]
    },
    {
     "ename": "SystemExit",
     "evalue": "2",
     "output_type": "error",
     "traceback": [
      "An exception has occurred, use %tb to see the full traceback.\n",
      "\u001b[1;31mSystemExit\u001b[0m\u001b[1;31m:\u001b[0m 2\n"
     ]
    },
    {
     "name": "stderr",
     "output_type": "stream",
     "text": [
      "D:\\Anaconda\\envs\\pytorch\\lib\\site-packages\\IPython\\core\\interactiveshell.py:3516: UserWarning: To exit: use 'exit', 'quit', or Ctrl-D.\n",
      "  warn(\"To exit: use 'exit', 'quit', or Ctrl-D.\", stacklevel=1)\n"
     ]
    }
   ],
   "source": [
    "# config.py\n",
    "import argparse  \n",
    "  \n",
    "def get_options(parser=argparse.ArgumentParser()):  \n",
    "  \n",
    "    parser.add_argument('--workers', type=int, default=0,  \n",
    "                        help='number of data loading workers, you had better put it '  \n",
    "                              '4 times of your gpu')  \n",
    "  \n",
    "    parser.add_argument('--batch_size', type=int, default=4, help='input batch size, default=64')  \n",
    "  \n",
    "    parser.add_argument('--niter', type=int, default=10, help='number of epochs to train for, default=10')  \n",
    "  \n",
    "    parser.add_argument('--lr', type=float, default=3e-5, help='select the learning rate, default=1e-3')  \n",
    "  \n",
    "    parser.add_argument('--seed', type=int, default=118, help=\"random seed\")  \n",
    "  \n",
    "    parser.add_argument('--cuda', action='store_true', default=True, help='enables cuda')  \n",
    "    parser.add_argument('--checkpoint_path',type=str,default='',  \n",
    "                        help='Path to load a previous trained model if not empty (default empty)')  \n",
    "    parser.add_argument('--output',action='store_true',default=True,help=\"shows output\")  \n",
    "  \n",
    "    opt = parser.parse_args()  \n",
    "  \n",
    "    if opt.output:  \n",
    "        print(f'num_workers: {opt.workers}')  \n",
    "        print(f'batch_size: {opt.batch_size}')  \n",
    "        print(f'epochs (niters) : {opt.niter}')  \n",
    "        print(f'learning rate : {opt.lr}')  \n",
    "        print(f'manual_seed: {opt.seed}')  \n",
    "        print(f'cuda enable: {opt.cuda}')  \n",
    "        print(f'checkpoint_path: {opt.checkpoint_path}')  \n",
    "  \n",
    "    return opt  \n",
    "  \n",
    "if __name__ == '__main__':  \n",
    "    opt = get_options()"
   ]
  },
  {
   "cell_type": "code",
   "execution_count": null,
   "id": "51e7d0d3",
   "metadata": {},
   "outputs": [],
   "source": [
    "# train.py\n",
    "import config\n",
    "\n",
    "opt = config.get_options()\n",
    "\n",
    "manual_seed = opt.seed\n",
    "num_workers = opt.workers\n",
    "batch_size = opt.batch_size\n",
    "lr = opt.lr\n",
    "niters = opt.niters\n",
    "checkpoint_path = opt.checkpoint_path\n",
    "\n",
    "# 随机数的设置，保证复现结果\n",
    "def set_seed(seed):\n",
    "    torch.manual_seed(seed)\n",
    "    torch.cuda.manual_seed_all(seed)\n",
    "    random.seed(seed)\n",
    "    np.random.seed(seed)\n",
    "    torch.backends.cudnn.benchmark = False\n",
    "    torch.backends.cudnn.deterministic = True\n",
    "\n",
    "...\n",
    "\n",
    "\n",
    "if __name__ == '__main__':\n",
    "    set_seed(manual_seed)\n",
    "        for epoch in range(niters):\n",
    "            train(model,lr,batch_size,num_workers,checkpoint_path)\n",
    "            val(model,lr,batch_size,num_workers,checkpoint_path)"
   ]
  },
  {
   "cell_type": "code",
   "execution_count": null,
   "id": "d7433057",
   "metadata": {},
   "outputs": [],
   "source": []
  }
 ],
 "metadata": {
  "kernelspec": {
   "display_name": "Python 3 (ipykernel)",
   "language": "python",
   "name": "python3"
  },
  "language_info": {
   "codemirror_mode": {
    "name": "ipython",
    "version": 3
   },
   "file_extension": ".py",
   "mimetype": "text/x-python",
   "name": "python",
   "nbconvert_exporter": "python",
   "pygments_lexer": "ipython3",
   "version": "3.10.12"
  }
 },
 "nbformat": 4,
 "nbformat_minor": 5
}
